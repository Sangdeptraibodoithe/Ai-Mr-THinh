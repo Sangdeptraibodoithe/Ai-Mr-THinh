{
  "nbformat": 4,
  "nbformat_minor": 0,
  "metadata": {
    "colab": {
      "name": "MnistANN.ipynb",
      "provenance": [],
      "collapsed_sections": []
    },
    "kernelspec": {
      "name": "python3",
      "display_name": "Python 3"
    },
    "language_info": {
      "name": "python"
    },
    "accelerator": "GPU"
  },
  "cells": [
    {
      "cell_type": "code",
      "execution_count": null,
      "metadata": {
        "id": "cG5U-USt-rGP"
      },
      "outputs": [],
      "source": [
        "import tensorflow as tf \n",
        "from tensorflow import keras\n",
        "import matplotlib.pyplot as plt\n",
        "from keras.layers import Activation,Dropout,Dense\n",
        "from keras.datasets import mnist"
      ]
    },
    {
      "cell_type": "code",
      "source": [
        "model = keras.datasets.mnist\n",
        "(x_train, y_train), (x_test, y_test) = mnist.load_data()"
      ],
      "metadata": {
        "colab": {
          "base_uri": "https://localhost:8080/"
        },
        "id": "GUrchMtW-wGS",
        "outputId": "b32a43ca-ae5c-4b2d-f638-7f3ccb97ecaf"
      },
      "execution_count": null,
      "outputs": [
        {
          "output_type": "stream",
          "name": "stdout",
          "text": [
            "Downloading data from https://storage.googleapis.com/tensorflow/tf-keras-datasets/mnist.npz\n",
            "11493376/11490434 [==============================] - 0s 0us/step\n",
            "11501568/11490434 [==============================] - 0s 0us/step\n"
          ]
        }
      ]
    },
    {
      "cell_type": "code",
      "source": [
        "from keras.models import Sequential\n",
        "model = Sequential()"
      ],
      "metadata": {
        "id": "9_Du84VE_GsL"
      },
      "execution_count": null,
      "outputs": []
    },
    {
      "cell_type": "code",
      "source": [
        "for i in range(9):\n",
        "  plt.subplot(330+i+1)\n",
        "  plt.imshow(x_train[i])\n",
        "plt.show()"
      ],
      "metadata": {
        "colab": {
          "base_uri": "https://localhost:8080/",
          "height": 268
        },
        "id": "9TvY52CX_Ihf",
        "outputId": "488e3acc-97a8-4339-f74c-33af894f9b65"
      },
      "execution_count": null,
      "outputs": [
        {
          "output_type": "display_data",
          "data": {
            "text/plain": [
              "<Figure size 432x288 with 9 Axes>"
            ],
            "image/png": "[encoded data removed]"
          },
          "metadata": {
            "needs_background": "light"
          }
        }
      ]
    },
    {
      "cell_type": "code",
      "source": [
        "x_test.shape"
      ],
      "metadata": {
        "colab": {
          "base_uri": "https://localhost:8080/"
        },
        "id": "6zQcwgnV_JwS",
        "outputId": "8ab7314a-9a67-4be5-8d0c-5ae2a3c171e2"
      },
      "execution_count": null,
      "outputs": [
        {
          "output_type": "execute_result",
          "data": {
            "text/plain": [
              "(10000, 28, 28)"
            ]
          },
          "metadata": {},
          "execution_count": 7
        }
      ]
    },
    {
      "cell_type": "code",
      "source": [
        "x_train.shape"
      ],
      "metadata": {
        "colab": {
          "base_uri": "https://localhost:8080/"
        },
        "id": "Oc0Hqg69_Pci",
        "outputId": "990ebbfc-3f4f-4ce4-85f8-f4821e18523d"
      },
      "execution_count": null,
      "outputs": [
        {
          "output_type": "execute_result",
          "data": {
            "text/plain": [
              "(60000, 28, 28)"
            ]
          },
          "metadata": {},
          "execution_count": 8
        }
      ]
    },
    {
      "cell_type": "code",
      "source": [
        "#đưa toàn bộ giá trị điểm ảnh về khoảng 0 -> 1.\n",
        "x=x_test\n",
        "x_train=x_train.reshape(60000,784)\n",
        "x_test= x_test.reshape(10000,784)\n",
        "x_train=x_train.astype('float32')\n",
        "x_test=x_test.astype('float32')\n",
        "x_train = x_train/255\n",
        "x_test = x_test/255"
      ],
      "metadata": {
        "id": "6NRduUaz_Qqa"
      },
      "execution_count": null,
      "outputs": []
    },
    {
      "cell_type": "code",
      "source": [
        "from tensorflow.keras.utils import to_categorical\n",
        "from keras import metrics\n",
        "y_train=to_categorical(y_train,10)\n",
        "y_test=to_categorical(y_test,10)"
      ],
      "metadata": {
        "id": "nSBxhpEE_Ts9"
      },
      "execution_count": null,
      "outputs": []
    },
    {
      "cell_type": "code",
      "source": [
        "#tao lop\n",
        "model.add(Dense(512,activation=\"relu\",input_shape=(784,)))\n",
        "model.add(Dropout(0.2))\n",
        "model.add(Dense(512,activation=\"relu\"))\n",
        "model.add(Dropout(0.2))\n",
        "model.add(Dense(512,activation=\"relu\"))\n",
        "model.add(Dropout(0.2))\n",
        "model.add(Dense(10,activation=\"softmax\"))\n",
        "model.summary()"
      ],
      "metadata": {
        "colab": {
          "base_uri": "https://localhost:8080/"
        },
        "id": "xrv4rP0q_c3H",
        "outputId": "c2598ebc-6801-422d-dc86-e5627babcdd0"
      },
      "execution_count": null,
      "outputs": [
        {
          "output_type": "stream",
          "name": "stdout",
          "text": [
            "Model: \"sequential\"\n",
            "_________________________________________________________________\n",
            " Layer (type)                Output Shape              Param #   \n",
            "=================================================================\n",
            " dense (Dense)               (None, 512)               401920    \n",
            "                                                                 \n",
            " dropout (Dropout)           (None, 512)               0         \n",
            "                                                                 \n",
            " dense_1 (Dense)             (None, 512)               262656    \n",
            "                                                                 \n",
            " dropout_1 (Dropout)         (None, 512)               0         \n",
            "                                                                 \n",
            " dense_2 (Dense)             (None, 512)               262656    \n",
            "                                                                 \n",
            " dropout_2 (Dropout)         (None, 512)               0         \n",
            "                                                                 \n",
            " dense_3 (Dense)             (None, 10)                5130      \n",
            "                                                                 \n",
            "=================================================================\n",
            "Total params: 932,362\n",
            "Trainable params: 932,362\n",
            "Non-trainable params: 0\n",
            "_________________________________________________________________\n"
          ]
        }
      ]
    },
    {
      "cell_type": "code",
      "source": [
        "from tensorflow.keras.optimizers import RMSprop"
      ],
      "metadata": {
        "id": "3WlrjNRMAZc9"
      },
      "execution_count": null,
      "outputs": []
    },
    {
      "cell_type": "code",
      "source": [
        "model.compile(loss='categorical_crossentropy',optimizer=RMSprop(),metrics=['accuracy'])"
      ],
      "metadata": {
        "id": "7yLVL-AnAcZC"
      },
      "execution_count": null,
      "outputs": []
    },
    {
      "cell_type": "code",
      "source": [
        "history=model.fit(x_train, y_train, batch_size=128,epochs =100, verbose=1,validation_data=(x_test,y_test))"
      ],
      "metadata": {
        "colab": {
          "base_uri": "https://localhost:8080/"
        },
        "id": "3FU10cpsAgET",
        "outputId": "4f6945e7-1fdc-4657-d4d5-11c6705d51b4"
      },
      "execution_count": null,
      "outputs": [
        {
          "output_type": "stream",
          "name": "stdout",
          "text": [
            "Epoch 1/100\n",
            "469/469 [==============================] - 7s 7ms/step - loss: 0.2677 - accuracy: 0.9158 - val_loss: 0.1438 - val_accuracy: 0.9559\n",
            "Epoch 2/100\n",
            "469/469 [==============================] - 3s 7ms/step - loss: 0.1135 - accuracy: 0.9667 - val_loss: 0.0834 - val_accuracy: 0.9740\n",
            "Epoch 3/100\n",
            "469/469 [==============================] - 3s 7ms/step - loss: 0.0883 - accuracy: 0.9752 - val_loss: 0.0873 - val_accuracy: 0.9738\n",
            "Epoch 4/100\n",
            "469/469 [==============================] - 3s 7ms/step - loss: 0.0737 - accuracy: 0.9789 - val_loss: 0.0774 - val_accuracy: 0.9786\n",
            "Epoch 5/100\n",
            "469/469 [==============================] - 3s 7ms/step - loss: 0.0655 - accuracy: 0.9816 - val_loss: 0.0883 - val_accuracy: 0.9797\n",
            "Epoch 6/100\n",
            "469/469 [==============================] - 3s 7ms/step - loss: 0.0600 - accuracy: 0.9830 - val_loss: 0.0908 - val_accuracy: 0.9794\n",
            "Epoch 7/100\n",
            "469/469 [==============================] - 3s 7ms/step - loss: 0.0587 - accuracy: 0.9849 - val_loss: 0.0807 - val_accuracy: 0.9839\n",
            "Epoch 8/100\n",
            "469/469 [==============================] - 3s 7ms/step - loss: 0.0523 - accuracy: 0.9872 - val_loss: 0.0989 - val_accuracy: 0.9801\n",
            "Epoch 9/100\n",
            "469/469 [==============================] - 3s 7ms/step - loss: 0.0510 - accuracy: 0.9868 - val_loss: 0.0967 - val_accuracy: 0.9833\n",
            "Epoch 10/100\n",
            "469/469 [==============================] - 3s 7ms/step - loss: 0.0485 - accuracy: 0.9878 - val_loss: 0.1093 - val_accuracy: 0.9799\n",
            "Epoch 11/100\n",
            "469/469 [==============================] - 3s 7ms/step - loss: 0.0508 - accuracy: 0.9877 - val_loss: 0.1130 - val_accuracy: 0.9815\n",
            "Epoch 12/100\n",
            "469/469 [==============================] - 3s 7ms/step - loss: 0.0475 - accuracy: 0.9890 - val_loss: 0.1070 - val_accuracy: 0.9839\n",
            "Epoch 13/100\n",
            "469/469 [==============================] - 3s 7ms/step - loss: 0.0463 - accuracy: 0.9898 - val_loss: 0.1219 - val_accuracy: 0.9823\n",
            "Epoch 14/100\n",
            "469/469 [==============================] - 3s 7ms/step - loss: 0.0450 - accuracy: 0.9903 - val_loss: 0.1198 - val_accuracy: 0.9837\n",
            "Epoch 15/100\n",
            "469/469 [==============================] - 3s 7ms/step - loss: 0.0452 - accuracy: 0.9901 - val_loss: 0.1116 - val_accuracy: 0.9842\n",
            "Epoch 16/100\n",
            "469/469 [==============================] - 3s 7ms/step - loss: 0.0450 - accuracy: 0.9900 - val_loss: 0.1195 - val_accuracy: 0.9832\n",
            "Epoch 17/100\n",
            "469/469 [==============================] - 4s 9ms/step - loss: 0.0450 - accuracy: 0.9902 - val_loss: 0.1420 - val_accuracy: 0.9813\n",
            "Epoch 18/100\n",
            "469/469 [==============================] - 4s 8ms/step - loss: 0.0428 - accuracy: 0.9906 - val_loss: 0.1313 - val_accuracy: 0.9830\n",
            "Epoch 19/100\n",
            "469/469 [==============================] - 3s 7ms/step - loss: 0.0423 - accuracy: 0.9909 - val_loss: 0.1335 - val_accuracy: 0.9822\n",
            "Epoch 20/100\n",
            "469/469 [==============================] - 3s 7ms/step - loss: 0.0465 - accuracy: 0.9908 - val_loss: 0.1772 - val_accuracy: 0.9791\n",
            "Epoch 21/100\n",
            "469/469 [==============================] - 3s 7ms/step - loss: 0.0457 - accuracy: 0.9911 - val_loss: 0.1575 - val_accuracy: 0.9827\n",
            "Epoch 22/100\n",
            "469/469 [==============================] - 3s 7ms/step - loss: 0.0460 - accuracy: 0.9915 - val_loss: 0.1574 - val_accuracy: 0.9832\n",
            "Epoch 23/100\n",
            "469/469 [==============================] - 3s 7ms/step - loss: 0.0396 - accuracy: 0.9920 - val_loss: 0.1477 - val_accuracy: 0.9830\n",
            "Epoch 24/100\n",
            "469/469 [==============================] - 3s 7ms/step - loss: 0.0407 - accuracy: 0.9922 - val_loss: 0.1764 - val_accuracy: 0.9838\n",
            "Epoch 25/100\n",
            "469/469 [==============================] - 3s 7ms/step - loss: 0.0409 - accuracy: 0.9926 - val_loss: 0.2342 - val_accuracy: 0.9830\n",
            "Epoch 26/100\n",
            "469/469 [==============================] - 3s 7ms/step - loss: 0.0406 - accuracy: 0.9930 - val_loss: 0.1912 - val_accuracy: 0.9830\n",
            "Epoch 27/100\n",
            "469/469 [==============================] - 3s 7ms/step - loss: 0.0429 - accuracy: 0.9919 - val_loss: 0.1670 - val_accuracy: 0.9827\n",
            "Epoch 28/100\n",
            "469/469 [==============================] - 3s 7ms/step - loss: 0.0355 - accuracy: 0.9934 - val_loss: 0.1979 - val_accuracy: 0.9822\n",
            "Epoch 29/100\n",
            "469/469 [==============================] - 3s 7ms/step - loss: 0.0420 - accuracy: 0.9931 - val_loss: 0.1647 - val_accuracy: 0.9839\n",
            "Epoch 30/100\n",
            "469/469 [==============================] - 3s 7ms/step - loss: 0.0388 - accuracy: 0.9931 - val_loss: 0.2276 - val_accuracy: 0.9797\n",
            "Epoch 31/100\n",
            "469/469 [==============================] - 3s 7ms/step - loss: 0.0335 - accuracy: 0.9934 - val_loss: 0.1903 - val_accuracy: 0.9851\n",
            "Epoch 32/100\n",
            "469/469 [==============================] - 4s 8ms/step - loss: 0.0398 - accuracy: 0.9939 - val_loss: 0.1843 - val_accuracy: 0.9828\n",
            "Epoch 33/100\n",
            "469/469 [==============================] - 3s 7ms/step - loss: 0.0361 - accuracy: 0.9943 - val_loss: 0.2174 - val_accuracy: 0.9836\n",
            "Epoch 34/100\n",
            "469/469 [==============================] - 3s 7ms/step - loss: 0.0388 - accuracy: 0.9937 - val_loss: 0.2045 - val_accuracy: 0.9814\n",
            "Epoch 35/100\n",
            "469/469 [==============================] - 3s 7ms/step - loss: 0.0357 - accuracy: 0.9936 - val_loss: 0.1887 - val_accuracy: 0.9829\n",
            "Epoch 36/100\n",
            "469/469 [==============================] - 3s 7ms/step - loss: 0.0367 - accuracy: 0.9941 - val_loss: 0.1922 - val_accuracy: 0.9826\n",
            "Epoch 37/100\n",
            "469/469 [==============================] - 3s 7ms/step - loss: 0.0421 - accuracy: 0.9936 - val_loss: 0.1936 - val_accuracy: 0.9835\n",
            "Epoch 38/100\n",
            "469/469 [==============================] - 4s 8ms/step - loss: 0.0394 - accuracy: 0.9940 - val_loss: 0.2088 - val_accuracy: 0.9848\n",
            "Epoch 39/100\n",
            "469/469 [==============================] - 3s 7ms/step - loss: 0.0410 - accuracy: 0.9938 - val_loss: 0.2220 - val_accuracy: 0.9835\n",
            "Epoch 40/100\n",
            "469/469 [==============================] - 4s 8ms/step - loss: 0.0387 - accuracy: 0.9946 - val_loss: 0.2353 - val_accuracy: 0.9844\n",
            "Epoch 41/100\n",
            "469/469 [==============================] - 3s 7ms/step - loss: 0.0377 - accuracy: 0.9943 - val_loss: 0.2565 - val_accuracy: 0.9841\n",
            "Epoch 42/100\n",
            "469/469 [==============================] - 3s 7ms/step - loss: 0.0368 - accuracy: 0.9938 - val_loss: 0.2629 - val_accuracy: 0.9820\n",
            "Epoch 43/100\n",
            "469/469 [==============================] - 3s 7ms/step - loss: 0.0432 - accuracy: 0.9943 - val_loss: 0.2212 - val_accuracy: 0.9829\n",
            "Epoch 44/100\n",
            "469/469 [==============================] - 3s 7ms/step - loss: 0.0384 - accuracy: 0.9942 - val_loss: 0.2736 - val_accuracy: 0.9832\n",
            "Epoch 45/100\n",
            "469/469 [==============================] - 3s 7ms/step - loss: 0.0364 - accuracy: 0.9943 - val_loss: 0.2345 - val_accuracy: 0.9843\n",
            "Epoch 46/100\n",
            "469/469 [==============================] - 3s 7ms/step - loss: 0.0381 - accuracy: 0.9944 - val_loss: 0.3484 - val_accuracy: 0.9803\n",
            "Epoch 47/100\n",
            "469/469 [==============================] - 3s 7ms/step - loss: 0.0402 - accuracy: 0.9946 - val_loss: 0.1957 - val_accuracy: 0.9831\n",
            "Epoch 48/100\n",
            "469/469 [==============================] - 3s 7ms/step - loss: 0.0336 - accuracy: 0.9953 - val_loss: 0.2383 - val_accuracy: 0.9852\n",
            "Epoch 49/100\n",
            "469/469 [==============================] - 3s 7ms/step - loss: 0.0347 - accuracy: 0.9953 - val_loss: 0.2987 - val_accuracy: 0.9845\n",
            "Epoch 50/100\n",
            "469/469 [==============================] - 3s 7ms/step - loss: 0.0437 - accuracy: 0.9941 - val_loss: 0.1942 - val_accuracy: 0.9849\n",
            "Epoch 51/100\n",
            "469/469 [==============================] - 3s 7ms/step - loss: 0.0325 - accuracy: 0.9946 - val_loss: 0.2826 - val_accuracy: 0.9842\n",
            "Epoch 52/100\n",
            "469/469 [==============================] - 3s 7ms/step - loss: 0.0417 - accuracy: 0.9942 - val_loss: 0.1891 - val_accuracy: 0.9831\n",
            "Epoch 53/100\n",
            "469/469 [==============================] - 3s 7ms/step - loss: 0.0363 - accuracy: 0.9946 - val_loss: 0.2595 - val_accuracy: 0.9848\n",
            "Epoch 54/100\n",
            "469/469 [==============================] - 3s 7ms/step - loss: 0.0359 - accuracy: 0.9950 - val_loss: 0.2754 - val_accuracy: 0.9841\n",
            "Epoch 55/100\n",
            "469/469 [==============================] - 3s 7ms/step - loss: 0.0379 - accuracy: 0.9953 - val_loss: 0.1799 - val_accuracy: 0.9844\n",
            "Epoch 56/100\n",
            "469/469 [==============================] - 3s 7ms/step - loss: 0.0362 - accuracy: 0.9949 - val_loss: 0.2659 - val_accuracy: 0.9853\n",
            "Epoch 57/100\n",
            "469/469 [==============================] - 3s 7ms/step - loss: 0.0351 - accuracy: 0.9952 - val_loss: 0.2994 - val_accuracy: 0.9850\n",
            "Epoch 58/100\n",
            "469/469 [==============================] - 3s 7ms/step - loss: 0.0421 - accuracy: 0.9944 - val_loss: 0.2529 - val_accuracy: 0.9849\n",
            "Epoch 59/100\n",
            "469/469 [==============================] - 3s 7ms/step - loss: 0.0393 - accuracy: 0.9952 - val_loss: 0.3178 - val_accuracy: 0.9834\n",
            "Epoch 60/100\n",
            "469/469 [==============================] - 3s 7ms/step - loss: 0.0383 - accuracy: 0.9955 - val_loss: 0.2870 - val_accuracy: 0.9825\n",
            "Epoch 61/100\n",
            "469/469 [==============================] - 3s 7ms/step - loss: 0.0359 - accuracy: 0.9960 - val_loss: 0.3043 - val_accuracy: 0.9839\n",
            "Epoch 62/100\n",
            "469/469 [==============================] - 3s 7ms/step - loss: 0.0359 - accuracy: 0.9955 - val_loss: 0.2554 - val_accuracy: 0.9837\n",
            "Epoch 63/100\n",
            "469/469 [==============================] - 3s 7ms/step - loss: 0.0370 - accuracy: 0.9953 - val_loss: 0.3418 - val_accuracy: 0.9828\n",
            "Epoch 64/100\n",
            "469/469 [==============================] - 3s 7ms/step - loss: 0.0451 - accuracy: 0.9949 - val_loss: 0.2623 - val_accuracy: 0.9852\n",
            "Epoch 65/100\n",
            "469/469 [==============================] - 3s 7ms/step - loss: 0.0389 - accuracy: 0.9951 - val_loss: 0.3244 - val_accuracy: 0.9837\n",
            "Epoch 66/100\n",
            "469/469 [==============================] - 3s 7ms/step - loss: 0.0383 - accuracy: 0.9954 - val_loss: 0.2952 - val_accuracy: 0.9849\n",
            "Epoch 67/100\n",
            "469/469 [==============================] - 3s 7ms/step - loss: 0.0388 - accuracy: 0.9951 - val_loss: 0.3046 - val_accuracy: 0.9837\n",
            "Epoch 68/100\n",
            "469/469 [==============================] - 3s 7ms/step - loss: 0.0375 - accuracy: 0.9954 - val_loss: 0.3082 - val_accuracy: 0.9844\n",
            "Epoch 69/100\n",
            "469/469 [==============================] - 3s 7ms/step - loss: 0.0478 - accuracy: 0.9948 - val_loss: 0.2716 - val_accuracy: 0.9851\n",
            "Epoch 70/100\n",
            "469/469 [==============================] - 3s 7ms/step - loss: 0.0363 - accuracy: 0.9958 - val_loss: 0.3107 - val_accuracy: 0.9844\n",
            "Epoch 71/100\n",
            "469/469 [==============================] - 3s 7ms/step - loss: 0.0385 - accuracy: 0.9956 - val_loss: 0.3085 - val_accuracy: 0.9846\n",
            "Epoch 72/100\n",
            "469/469 [==============================] - 3s 7ms/step - loss: 0.0416 - accuracy: 0.9958 - val_loss: 0.2955 - val_accuracy: 0.9859\n",
            "Epoch 73/100\n",
            "469/469 [==============================] - 3s 7ms/step - loss: 0.0368 - accuracy: 0.9956 - val_loss: 0.3119 - val_accuracy: 0.9855\n",
            "Epoch 74/100\n",
            "469/469 [==============================] - 3s 7ms/step - loss: 0.0321 - accuracy: 0.9961 - val_loss: 0.3583 - val_accuracy: 0.9850\n",
            "Epoch 75/100\n",
            "469/469 [==============================] - 3s 7ms/step - loss: 0.0376 - accuracy: 0.9957 - val_loss: 0.3523 - val_accuracy: 0.9852\n",
            "Epoch 76/100\n",
            "469/469 [==============================] - 3s 7ms/step - loss: 0.0366 - accuracy: 0.9958 - val_loss: 0.3696 - val_accuracy: 0.9828\n",
            "Epoch 77/100\n",
            "469/469 [==============================] - 3s 7ms/step - loss: 0.0416 - accuracy: 0.9959 - val_loss: 0.3300 - val_accuracy: 0.9849\n",
            "Epoch 78/100\n",
            "469/469 [==============================] - 3s 7ms/step - loss: 0.0413 - accuracy: 0.9952 - val_loss: 0.3195 - val_accuracy: 0.9836\n",
            "Epoch 79/100\n",
            "469/469 [==============================] - 3s 7ms/step - loss: 0.0333 - accuracy: 0.9964 - val_loss: 0.3315 - val_accuracy: 0.9823\n",
            "Epoch 80/100\n",
            "469/469 [==============================] - 3s 7ms/step - loss: 0.0463 - accuracy: 0.9961 - val_loss: 0.3411 - val_accuracy: 0.9837\n",
            "Epoch 81/100\n",
            "469/469 [==============================] - 3s 7ms/step - loss: 0.0434 - accuracy: 0.9958 - val_loss: 0.3144 - val_accuracy: 0.9840\n",
            "Epoch 82/100\n",
            "469/469 [==============================] - 3s 7ms/step - loss: 0.0305 - accuracy: 0.9963 - val_loss: 0.3647 - val_accuracy: 0.9854\n",
            "Epoch 83/100\n",
            "469/469 [==============================] - 3s 7ms/step - loss: 0.0371 - accuracy: 0.9965 - val_loss: 0.3572 - val_accuracy: 0.9831\n",
            "Epoch 84/100\n",
            "469/469 [==============================] - 3s 7ms/step - loss: 0.0408 - accuracy: 0.9959 - val_loss: 0.3804 - val_accuracy: 0.9841\n",
            "Epoch 85/100\n",
            "469/469 [==============================] - 3s 7ms/step - loss: 0.0330 - accuracy: 0.9966 - val_loss: 0.3204 - val_accuracy: 0.9840\n",
            "Epoch 86/100\n",
            "469/469 [==============================] - 3s 7ms/step - loss: 0.0334 - accuracy: 0.9964 - val_loss: 0.4684 - val_accuracy: 0.9823\n",
            "Epoch 87/100\n",
            "469/469 [==============================] - 3s 7ms/step - loss: 0.0387 - accuracy: 0.9962 - val_loss: 0.4055 - val_accuracy: 0.9842\n",
            "Epoch 88/100\n",
            "469/469 [==============================] - 3s 7ms/step - loss: 0.0416 - accuracy: 0.9962 - val_loss: 0.3367 - val_accuracy: 0.9845\n",
            "Epoch 89/100\n",
            "469/469 [==============================] - 3s 7ms/step - loss: 0.0369 - accuracy: 0.9964 - val_loss: 0.3936 - val_accuracy: 0.9850\n",
            "Epoch 90/100\n",
            "469/469 [==============================] - 3s 7ms/step - loss: 0.0346 - accuracy: 0.9961 - val_loss: 0.4193 - val_accuracy: 0.9851\n",
            "Epoch 91/100\n",
            "469/469 [==============================] - 3s 7ms/step - loss: 0.0375 - accuracy: 0.9967 - val_loss: 0.4379 - val_accuracy: 0.9839\n",
            "Epoch 92/100\n",
            "469/469 [==============================] - 3s 7ms/step - loss: 0.0394 - accuracy: 0.9965 - val_loss: 0.4374 - val_accuracy: 0.9848\n",
            "Epoch 93/100\n",
            "469/469 [==============================] - 4s 8ms/step - loss: 0.0454 - accuracy: 0.9961 - val_loss: 0.4136 - val_accuracy: 0.9846\n",
            "Epoch 94/100\n",
            "469/469 [==============================] - 3s 7ms/step - loss: 0.0404 - accuracy: 0.9965 - val_loss: 0.3843 - val_accuracy: 0.9846\n",
            "Epoch 95/100\n",
            "469/469 [==============================] - 3s 7ms/step - loss: 0.0423 - accuracy: 0.9962 - val_loss: 0.4243 - val_accuracy: 0.9844\n",
            "Epoch 96/100\n",
            "469/469 [==============================] - 3s 7ms/step - loss: 0.0283 - accuracy: 0.9970 - val_loss: 0.5028 - val_accuracy: 0.9841\n",
            "Epoch 97/100\n",
            "469/469 [==============================] - 3s 7ms/step - loss: 0.0339 - accuracy: 0.9966 - val_loss: 0.4955 - val_accuracy: 0.9819\n",
            "Epoch 98/100\n",
            "469/469 [==============================] - 3s 7ms/step - loss: 0.0348 - accuracy: 0.9963 - val_loss: 0.4300 - val_accuracy: 0.9855\n",
            "Epoch 99/100\n",
            "469/469 [==============================] - 3s 7ms/step - loss: 0.0407 - accuracy: 0.9965 - val_loss: 0.4410 - val_accuracy: 0.9836\n",
            "Epoch 100/100\n",
            "469/469 [==============================] - 3s 7ms/step - loss: 0.0382 - accuracy: 0.9965 - val_loss: 0.4270 - val_accuracy: 0.9835\n"
          ]
        }
      ]
    },
    {
      "cell_type": "code",
      "source": [
        "model.save('Mnist.h5')"
      ],
      "metadata": {
        "id": "_ztSzavUAvjS"
      },
      "execution_count": null,
      "outputs": []
    },
    {
      "cell_type": "code",
      "source": [
        "from keras.models import load_model\n",
        "model5 = load_model('Mnist.h5')"
      ],
      "metadata": {
        "id": "0SfQOADsBiUJ"
      },
      "execution_count": null,
      "outputs": []
    },
    {
      "cell_type": "code",
      "source": [
        "#danh gia mo hinh tren tap test\n",
        "model.evaluate(x_test, y_test)"
      ],
      "metadata": {
        "colab": {
          "base_uri": "https://localhost:8080/"
        },
        "id": "1Z9dexdhBmCg",
        "outputId": "174ca53a-3e60-4a41-cb02-e6a4e328233e"
      },
      "execution_count": null,
      "outputs": [
        {
          "output_type": "stream",
          "name": "stdout",
          "text": [
            "313/313 [==============================] - 1s 4ms/step - loss: 0.4270 - accuracy: 0.9835\n"
          ]
        },
        {
          "output_type": "execute_result",
          "data": {
            "text/plain": [
              "[0.4269900918006897, 0.9835000038146973]"
            ]
          },
          "metadata": {},
          "execution_count": 17
        }
      ]
    },
    {
      "cell_type": "code",
      "source": [
        "score=model.evaluate(x_test,y_test,verbose=1)\n",
        "print('Test loss = ',score[0])\n",
        "print('Test acuracy',score[1])\n",
        "plt.plot(history.history['accuracy'])\n",
        "plt.plot(history.history['val_accuracy'])\n",
        "plt.title('Model Accuracy')\n",
        "plt.ylabel('accuracy')\n",
        "plt.xlabel('epoch')\n",
        "plt.legend(['train', 'validation'], loc ='upper left')"
      ],
      "metadata": {
        "colab": {
          "base_uri": "https://localhost:8080/",
          "height": 364
        },
        "id": "h8VkOs7nBmw2",
        "outputId": "fe42cef6-1fde-465e-c178-72220fc32319"
      },
      "execution_count": null,
      "outputs": [
        {
          "output_type": "stream",
          "name": "stdout",
          "text": [
            "313/313 [==============================] - 1s 4ms/step - loss: 0.4270 - accuracy: 0.9835\n",
            "Test loss =  0.4269900918006897\n",
            "Test acuracy 0.9835000038146973\n"
          ]
        },
        {
          "output_type": "execute_result",
          "data": {
            "text/plain": [
              "<matplotlib.legend.Legend at 0x7fb8481dca10>"
            ]
          },
          "metadata": {},
          "execution_count": 18
        },
        {
          "output_type": "display_data",
          "data": {
            "text/plain": [
              "<Figure size 432x288 with 1 Axes>"
            ],
            "image/png": "[encoded data removed]"
          },
          "metadata": {
            "needs_background": "light"
          }
        }
      ]
    },
    {
      "cell_type": "code",
      "source": [
        "import numpy as np\n",
        "Y_pred = model.predict(x_test)\n",
        "for i in range(9):\n",
        "  plt.subplot(330 +i+1)\n",
        "  plt.imshow(x[i])\n",
        "  plt.show()\n",
        "  print(np.round(Y_pred[i]))"
      ],
      "metadata": {
        "colab": {
          "base_uri": "https://localhost:8080/",
          "height": 1055
        },
        "id": "RXAFtPC0BpyY",
        "outputId": "b0fe1c72-f8d6-4fb5-cd9f-1821d7528e1e"
      },
      "execution_count": null,
      "outputs": [
        {
          "output_type": "display_data",
          "data": {
            "text/plain": [
              "<Figure size 432x288 with 1 Axes>"
            ],
            "image/png": "[encoded data removed]"
          },
          "metadata": {
            "needs_background": "light"
          }
        },
        {
          "output_type": "stream",
          "name": "stdout",
          "text": [
            "[0. 0. 0. 0. 0. 0. 0. 1. 0. 0.]\n"
          ]
        },
        {
          "output_type": "display_data",
          "data": {
            "text/plain": [
              "<Figure size 432x288 with 1 Axes>"
            ],
            "image/png": "[encoded data removed]"
          },
          "metadata": {
            "needs_background": "light"
          }
        },
        {
          "output_type": "stream",
          "name": "stdout",
          "text": [
            "[0. 0. 1. 0. 0. 0. 0. 0. 0. 0.]\n"
          ]
        },
        {
          "output_type": "display_data",
          "data": {
            "text/plain": [
              "<Figure size 432x288 with 1 Axes>"
            ],
            "image/png": "[encoded data removed]"
          },
          "metadata": {
            "needs_background": "light"
          }
        },
        {
          "output_type": "stream",
          "name": "stdout",
          "text": [
            "[0. 1. 0. 0. 0. 0. 0. 0. 0. 0.]\n"
          ]
        },
        {
          "output_type": "display_data",
          "data": {
            "text/plain": [
              "<Figure size 432x288 with 1 Axes>"
            ],
            "image/png": "[encoded data removed]"
          },
          "metadata": {
            "needs_background": "light"
          }
        },
        {
          "output_type": "stream",
          "name": "stdout",
          "text": [
            "[1. 0. 0. 0. 0. 0. 0. 0. 0. 0.]\n"
          ]
        },
        {
          "output_type": "display_data",
          "data": {
            "text/plain": [
              "<Figure size 432x288 with 1 Axes>"
            ],
            "image/png": "[encoded data removed]"
          },
          "metadata": {
            "needs_background": "light"
          }
        },
        {
          "output_type": "stream",
          "name": "stdout",
          "text": [
            "[0. 0. 0. 0. 1. 0. 0. 0. 0. 0.]\n"
          ]
        },
        {
          "output_type": "display_data",
          "data": {
            "text/plain": [
              "<Figure size 432x288 with 1 Axes>"
            ],
            "image/png": "[encoded data removed]"
          },
          "metadata": {
            "needs_background": "light"
          }
        },
        {
          "output_type": "stream",
          "name": "stdout",
          "text": [
            "[0. 1. 0. 0. 0. 0. 0. 0. 0. 0.]\n"
          ]
        },
        {
          "output_type": "display_data",
          "data": {
            "text/plain": [
              "<Figure size 432x288 with 1 Axes>"
            ],
            "image/png": "[encoded data removed]"
          },
          "metadata": {
            "needs_background": "light"
          }
        },
        {
          "output_type": "stream",
          "name": "stdout",
          "text": [
            "[0. 0. 0. 0. 1. 0. 0. 0. 0. 0.]\n"
          ]
        },
        {
          "output_type": "display_data",
          "data": {
            "text/plain": [
              "<Figure size 432x288 with 1 Axes>"
            ],
            "image/png": "[encoded data removed]"
          },
          "metadata": {
            "needs_background": "light"
          }
        },
        {
          "output_type": "stream",
          "name": "stdout",
          "text": [
            "[0. 0. 0. 0. 0. 0. 0. 0. 0. 1.]\n"
          ]
        },
        {
          "output_type": "display_data",
          "data": {
            "text/plain": [
              "<Figure size 432x288 with 1 Axes>"
            ],
            "image/png": "[encoded data removed]"
          },
          "metadata": {
            "needs_background": "light"
          }
        },
        {
          "output_type": "stream",
          "name": "stdout",
          "text": [
            "[0. 0. 0. 0. 0. 1. 0. 0. 0. 0.]\n"
          ]
        }
      ]
    },
    {
      "cell_type": "code",
      "source": [
        "plt.imshow(x[6])"
      ],
      "metadata": {
        "colab": {
          "base_uri": "https://localhost:8080/",
          "height": 282
        },
        "id": "DHaOh-P-Brio",
        "outputId": "0cc52345-bb3c-4d4f-ea28-2ce5bafa02cc"
      },
      "execution_count": null,
      "outputs": [
        {
          "output_type": "execute_result",
          "data": {
            "text/plain": [
              "<matplotlib.image.AxesImage at 0x7fb848085f10>"
            ]
          },
          "metadata": {},
          "execution_count": 20
        },
        {
          "output_type": "display_data",
          "data": {
            "text/plain": [
              "<Figure size 432x288 with 1 Axes>"
            ],
            "image/png": "[encoded data removed]"
          },
          "metadata": {
            "needs_background": "light"
          }
        }
      ]
    },
    {
      "cell_type": "code",
      "source": [
        "#output cua mo hinh co phan phoi xac suat cua cac nhan\n",
        "predict_result = model.predict(np.array([x_test[6]]))\n",
        "print(predict_result)"
      ],
      "metadata": {
        "colab": {
          "base_uri": "https://localhost:8080/"
        },
        "id": "Nhx-1P6UBuOS",
        "outputId": "af7c4398-10d3-4b78-8ba7-3f01af21a819"
      },
      "execution_count": null,
      "outputs": [
        {
          "output_type": "stream",
          "name": "stdout",
          "text": [
            "[[0. 0. 0. 0. 1. 0. 0. 0. 0. 0.]]\n"
          ]
        }
      ]
    },
    {
      "cell_type": "code",
      "source": [
        "#nhan co gia tri xac saut cao nhat\n",
        "np.argmax(predict_result)"
      ],
      "metadata": {
        "colab": {
          "base_uri": "https://localhost:8080/"
        },
        "id": "lHFndXSCBvwy",
        "outputId": "aec8b53c-45ff-4177-bdca-5ba3ef15db69"
      },
      "execution_count": null,
      "outputs": [
        {
          "output_type": "execute_result",
          "data": {
            "text/plain": [
              "4"
            ]
          },
          "metadata": {},
          "execution_count": 22
        }
      ]
    },
    {
      "cell_type": "code",
      "source": [
        ""
      ],
      "metadata": {
        "id": "sfxJBARXCYZm"
      },
      "execution_count": null,
      "outputs": []
    }
  ]
}